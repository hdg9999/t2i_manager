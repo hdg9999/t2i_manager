{
 "cells": [
  {
   "cell_type": "code",
   "execution_count": 4,
   "metadata": {},
   "outputs": [
    {
     "name": "stdout",
     "output_type": "stream",
     "text": [
      "samples\\KakaoTalk_20230725_143818706.jpg\n",
      "samples\\KakaoTalk_20230725_144813615.jpg\n",
      "samples\\KakaoTalk_20230725_153945477.png\n",
      "samples\\KakaoTalk_20230725_162205846.jpg\n",
      "samples\\KakaoTalk_20240420_201334953.jpg\n"
     ]
    }
   ],
   "source": [
    "import os\n",
    "\n",
    "for file in os.scandir('samples'):\n",
    "    print(file.path)"
   ]
  }
 ],
 "metadata": {
  "kernelspec": {
   "display_name": "t2i",
   "language": "python",
   "name": "python3"
  },
  "language_info": {
   "codemirror_mode": {
    "name": "ipython",
    "version": 3
   },
   "file_extension": ".py",
   "mimetype": "text/x-python",
   "name": "python",
   "nbconvert_exporter": "python",
   "pygments_lexer": "ipython3",
   "version": "3.10.13"
  }
 },
 "nbformat": 4,
 "nbformat_minor": 2
}
